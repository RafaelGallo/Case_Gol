import pandas as pd
import seaborn as sns
import matplotlib.pyplot as plt


# Lista de URLs dos arquivos CSV
urls = ["https://www.gov.br/anac/pt-br/assuntos/dados-e-estatisticas/percentuais-de-atrasos-e-cancelamentos-2/2018/vra-01_2018.csv",
        "https://www.gov.br/anac/pt-br/assuntos/dados-e-estatisticas/percentuais-de-atrasos-e-cancelamentos-2/2018/vra-02_2018.csv",
        "https://www.gov.br/anac/pt-br/assuntos/dados-e-estatisticas/percentuais-de-atrasos-e-cancelamentos-2/2018/vra_032018.csv",
        "https://www.gov.br/anac/pt-br/assuntos/dados-e-estatisticas/percentuais-de-atrasos-e-cancelamentos-2/2018/vra_04.csv",
        "https://www.gov.br/anac/pt-br/assuntos/dados-e-estatisticas/percentuais-de-atrasos-e-cancelamentos-2/2018/vra_05.csv",
        "https://www.gov.br/anac/pt-br/assuntos/dados-e-estatisticas/percentuais-de-atrasos-e-cancelamentos-2/2018/vra_062018.csv",
        "https://www.gov.br/anac/pt-br/assuntos/dados-e-estatisticas/percentuais-de-atrasos-e-cancelamentos-2/2018/vra_072018.csv",
        "https://www.gov.br/anac/pt-br/assuntos/dados-e-estatisticas/percentuais-de-atrasos-e-cancelamentos-2/2018/vra_082018.csv",
        "https://www.gov.br/anac/pt-br/assuntos/dados-e-estatisticas/percentuais-de-atrasos-e-cancelamentos-2/2018/vra_092018.csv",
        "https://www.gov.br/anac/pt-br/assuntos/dados-e-estatisticas/percentuais-de-atrasos-e-cancelamentos-2/2018/vra_102018.csv",
        "https://www.gov.br/anac/pt-br/assuntos/dados-e-estatisticas/percentuais-de-atrasos-e-cancelamentos-2/2018/vra_112018.csv",
        "https://www.gov.br/anac/pt-br/assuntos/dados-e-estatisticas/percentuais-de-atrasos-e-cancelamentos-2/2018/vra_122018.csv"]

# Lista para armazenar os DataFrames
dataframes = []

# Loop para ler cada arquivo CSV e adicioná-lo à lista
for url in urls:
    df = pd.read_csv(url, sep=';', encoding='latin1')
    dataframes.append(df)

# Concatenar todos os DataFrames em um único
df = pd.concat(dataframes, ignore_index=True)

# Exibir as primeiras linhas do DataFrame consolidado
df.head()


df.tail()


df.shape


df.info()


df.dtypes


df.columns = ["ICAO_Empresa_Aérea", 
              "Número_Voo", "Código_Autorização_(DI)",
              "Código_Tipo_Linha", "ICAO_Aeródromo_Origem",
              "ICAO_Aeródromo_Destino", "Partida_Prevista",
              "Partida_Real", "Chegada_Prevista",
              "Chegada_Real", "Situação_Voo",
              "Código_Justificativa", "Código_DI"]

df


df.ICAO_Empresa_Aérea.value_counts()


# Filtrar as companhias de interesse
companhias_interesse = ['GOL', 'AZU', 'TAM']  # Ajuste os códigos conforme necessário
df = df[df['ICAO_Empresa_Aérea'].isin(companhias_interesse)]
df


# Filtrar apenas voos nacionais
df = df[df['Código_Tipo_Linha'] == 'N']  # Ajuste o valor conforme necessário para voos nacionais
df


# Remover a coluna "Código Justificativa"
df = df.drop(columns=['Código_Justificativa'], errors='ignore')
df


# Remover registros com valores nulos nas colunas de data/hora
df = df.dropna(subset=['Partida_Prevista', 'Partida_Real'])

# Converter as colunas de data/hora para o formato datetime novamente
df['Partida_Prevista'] = pd.to_datetime(df['Partida_Prevista'], format='%H:%M:%S', errors='coerce')
df['Partida_Real'] = pd.to_datetime(df['Partida_Real'], format='%H:%M:%S', errors='coerce')

# Verificar se ainda há valores nulos
print(df[['Partida_Prevista', 'Partida_Real']].isnull().sum())


# Converter as colunas de data/hora para o formato datetime
df['Partida_Prevista'] = pd.to_datetime(df['Partida_Prevista'], format='%H:%M:%S', errors='coerce')
df['Partida_Real'] = pd.to_datetime(df['Partida_Real'], format='%H:%M:%S', errors='coerce')

# Criar a variável de atraso
df['Atrasado'] = (df['Partida_Real'] > (df['Partida_Prevista'] + pd.Timedelta(minutes=15))).astype(int)


# Criar uma coluna de mês a partir de 'Partida_Prevista'
df['Mês'] = df['Partida_Prevista'].dt.month

# Calcular o total de voos e voos atrasados por mês e companhia
pontualidade_por_mes = df.groupby(['Mês', 'ICAO_Empresa_Aérea'])['Atrasado'].agg(
    total_voos='count', voos_atrasados='sum'
).reset_index()

# Calcular a taxa de pontualidade
pontualidade_por_mes['Pontualidade'] = 1 - (pontualidade_por_mes['voos_atrasados'] / pontualidade_por_mes['total_voos'])

# Exibir os resultados
pontualidade_por_mes


# Exibir exemplos dos primeiros valores das colunas originais de data/hora
print(df[['Partida_Prevista', 'Partida_Real']].head(20))


# Ajustar o formato se necessário (por exemplo, se estiverem em HH:MM)
df['Partida_Prevista'] = pd.to_datetime(df['Partida_Prevista'], format='%H:%M', errors='coerce')
df['Partida_Real'] = pd.to_datetime(df['Partida_Real'], format='%H:%M', errors='coerce')
df


# Verificar se há valores nulos nas colunas de data/hora
print(df[['Partida_Prevista', 'Partida_Real']].isnull().sum())




